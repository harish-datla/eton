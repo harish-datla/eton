{
 "cells": [
  {
   "cell_type": "markdown",
   "metadata": {},
   "source": [
    "Makefile\n",
    "eton: eton.c\n",
    "\t$(CC) eton.c -o eton -Wall -Wextra -pedantic -std=c99\n",
    "    \n",
    "first line means build eton with eton.c. second line is a command that actually builds eton out of eton.c, Second line is indented with tabs, in makefiles we should use tabs.  \n",
    "\n",
    "$(CC) - make expands this to cc.\n",
    "Wall - all warnings - lists out all warnings(bad usage of c) \n",
    "Wextra and -pedantic - gives out more warnings \n",
    "std=c99 -  the versio of c we are using"
   ]
  }
 ],
 "metadata": {
  "kernelspec": {
   "display_name": "Python 3",
   "language": "python",
   "name": "python3"
  },
  "language_info": {
   "codemirror_mode": {
    "name": "ipython",
    "version": 3
   },
   "file_extension": ".py",
   "mimetype": "text/x-python",
   "name": "python",
   "nbconvert_exporter": "python",
   "pygments_lexer": "ipython3",
   "version": "3.6.7"
  }
 },
 "nbformat": 4,
 "nbformat_minor": 2
}
